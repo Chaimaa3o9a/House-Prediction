{
 "cells": [
  {
   "cell_type": "markdown",
   "metadata": {},
   "source": [
    "<center><h1>Commentaires toxic<h1><center>"
   ]
  },
  {
   "cell_type": "markdown",
   "metadata": {},
   "source": [
    "<p>Dans un monde rempli d'internet, tout le monde a la liberté d'écrire et de donner son opinion sur n'importe quelle plateforme de social media. Les gens choisissent généralement d'écrire leur opinion dans la section des commentaires et des fils de discussion d'un site Web, mais souvent, ils ne le font pas.</p>\n",
    "<p>Il a été observé qu'au lieu de donner des conseils constructifs, les gens utilisent cette opportunité pour intimider ou abuser des autres et commencer à se battre les uns avec les autres dans les fils de discussion et la section des commentaires où ils vont parfois jusqu'à proférer des menaces et des insultes. </p>\n",
    "<p>Pour identifier et restreindre spécifiquement ce type de commentaires, les sociétés d'internet travaillent régulièrement et cette compétition a été organisée sur un sujet similaire.</p>"
   ]
  },
  {
   "cell_type": "markdown",
   "metadata": {},
   "source": [
    "<center><h2>Importation des packages<h2/><center/>"
   ]
  },
  {
   "cell_type": "code",
   "execution_count": 48,
   "metadata": {},
   "outputs": [],
   "source": [
    "import numpy as np \n",
    "import pandas as pd \n",
    "import seaborn as sb\n",
    "import matplotlib.pyplot as plt\n",
    "import re\n",
    "from sklearn.model_selection import train_test_split, KFold, StratifiedKFold, cross_val_score, cross_val_predict\n",
    "from sklearn.metrics import accuracy_score, multilabel_confusion_matrix\n",
    "from sklearn.linear_model import LogisticRegression\n",
    "from sklearn.feature_extraction.text import TfidfVectorizer, CountVectorizer\n",
    "from sklearn.metrics import r2_score,mean_squared_error,mean_absolute_error\n",
    "from nltk.tokenize import TweetTokenizer  \n",
    "from nltk.stem.wordnet import WordNetLemmatizer \n",
    "from nltk.corpus import stopwords"
   ]
  },
  {
   "cell_type": "markdown",
   "metadata": {},
   "source": [
    "<center><h2>Visualisation des données<h2/><center/>"
   ]
  },
  {
   "cell_type": "markdown",
   "metadata": {},
   "source": [
    "\n"
   ]
  },
  {
   "cell_type": "code",
   "execution_count": 49,
   "metadata": {},
   "outputs": [],
   "source": [
    "train=pd.read_csv(\"comment_train.csv\")\n",
    "test=pd.read_csv(\"comment_test.csv\")"
   ]
  },
  {
   "cell_type": "code",
   "execution_count": 50,
   "metadata": {},
   "outputs": [
    {
     "data": {
      "text/html": [
       "<div>\n",
       "<style scoped>\n",
       "    .dataframe tbody tr th:only-of-type {\n",
       "        vertical-align: middle;\n",
       "    }\n",
       "\n",
       "    .dataframe tbody tr th {\n",
       "        vertical-align: top;\n",
       "    }\n",
       "\n",
       "    .dataframe thead th {\n",
       "        text-align: right;\n",
       "    }\n",
       "</style>\n",
       "<table border=\"1\" class=\"dataframe\">\n",
       "  <thead>\n",
       "    <tr style=\"text-align: right;\">\n",
       "      <th></th>\n",
       "      <th>id</th>\n",
       "      <th>comment_text</th>\n",
       "      <th>toxic</th>\n",
       "      <th>severe_toxic</th>\n",
       "      <th>obscene</th>\n",
       "      <th>threat</th>\n",
       "      <th>insult</th>\n",
       "      <th>identity_hate</th>\n",
       "    </tr>\n",
       "  </thead>\n",
       "  <tbody>\n",
       "    <tr>\n",
       "      <th>0</th>\n",
       "      <td>0000997932d777bf</td>\n",
       "      <td>Explanation\\nWhy the edits made under my usern...</td>\n",
       "      <td>0</td>\n",
       "      <td>0</td>\n",
       "      <td>0</td>\n",
       "      <td>0</td>\n",
       "      <td>0</td>\n",
       "      <td>0</td>\n",
       "    </tr>\n",
       "    <tr>\n",
       "      <th>1</th>\n",
       "      <td>000103f0d9cfb60f</td>\n",
       "      <td>D'aww! He matches this background colour I'm s...</td>\n",
       "      <td>0</td>\n",
       "      <td>0</td>\n",
       "      <td>0</td>\n",
       "      <td>0</td>\n",
       "      <td>0</td>\n",
       "      <td>0</td>\n",
       "    </tr>\n",
       "    <tr>\n",
       "      <th>2</th>\n",
       "      <td>000113f07ec002fd</td>\n",
       "      <td>Hey man, I'm really not trying to edit war. It...</td>\n",
       "      <td>0</td>\n",
       "      <td>0</td>\n",
       "      <td>0</td>\n",
       "      <td>0</td>\n",
       "      <td>0</td>\n",
       "      <td>0</td>\n",
       "    </tr>\n",
       "    <tr>\n",
       "      <th>3</th>\n",
       "      <td>0001b41b1c6bb37e</td>\n",
       "      <td>\"\\nMore\\nI can't make any real suggestions on ...</td>\n",
       "      <td>0</td>\n",
       "      <td>0</td>\n",
       "      <td>0</td>\n",
       "      <td>0</td>\n",
       "      <td>0</td>\n",
       "      <td>0</td>\n",
       "    </tr>\n",
       "    <tr>\n",
       "      <th>4</th>\n",
       "      <td>0001d958c54c6e35</td>\n",
       "      <td>You, sir, are my hero. Any chance you remember...</td>\n",
       "      <td>0</td>\n",
       "      <td>0</td>\n",
       "      <td>0</td>\n",
       "      <td>0</td>\n",
       "      <td>0</td>\n",
       "      <td>0</td>\n",
       "    </tr>\n",
       "  </tbody>\n",
       "</table>\n",
       "</div>"
      ],
      "text/plain": [
       "                 id                                       comment_text  toxic  \\\n",
       "0  0000997932d777bf  Explanation\\nWhy the edits made under my usern...      0   \n",
       "1  000103f0d9cfb60f  D'aww! He matches this background colour I'm s...      0   \n",
       "2  000113f07ec002fd  Hey man, I'm really not trying to edit war. It...      0   \n",
       "3  0001b41b1c6bb37e  \"\\nMore\\nI can't make any real suggestions on ...      0   \n",
       "4  0001d958c54c6e35  You, sir, are my hero. Any chance you remember...      0   \n",
       "\n",
       "   severe_toxic  obscene  threat  insult  identity_hate  \n",
       "0             0        0       0       0              0  \n",
       "1             0        0       0       0              0  \n",
       "2             0        0       0       0              0  \n",
       "3             0        0       0       0              0  \n",
       "4             0        0       0       0              0  "
      ]
     },
     "execution_count": 50,
     "metadata": {},
     "output_type": "execute_result"
    }
   ],
   "source": [
    "train.head()"
   ]
  },
  {
   "cell_type": "code",
   "execution_count": 51,
   "metadata": {},
   "outputs": [
    {
     "data": {
      "text/html": [
       "<div>\n",
       "<style scoped>\n",
       "    .dataframe tbody tr th:only-of-type {\n",
       "        vertical-align: middle;\n",
       "    }\n",
       "\n",
       "    .dataframe tbody tr th {\n",
       "        vertical-align: top;\n",
       "    }\n",
       "\n",
       "    .dataframe thead th {\n",
       "        text-align: right;\n",
       "    }\n",
       "</style>\n",
       "<table border=\"1\" class=\"dataframe\">\n",
       "  <thead>\n",
       "    <tr style=\"text-align: right;\">\n",
       "      <th></th>\n",
       "      <th>id</th>\n",
       "      <th>comment_text</th>\n",
       "    </tr>\n",
       "  </thead>\n",
       "  <tbody>\n",
       "    <tr>\n",
       "      <th>0</th>\n",
       "      <td>00001cee341fdb12</td>\n",
       "      <td>Yo bitch Ja Rule is more succesful then you'll...</td>\n",
       "    </tr>\n",
       "    <tr>\n",
       "      <th>1</th>\n",
       "      <td>0000247867823ef7</td>\n",
       "      <td>== From RfC == \\n\\n The title is fine as it is...</td>\n",
       "    </tr>\n",
       "    <tr>\n",
       "      <th>2</th>\n",
       "      <td>00013b17ad220c46</td>\n",
       "      <td>\" \\n\\n == Sources == \\n\\n * Zawe Ashton on Lap...</td>\n",
       "    </tr>\n",
       "    <tr>\n",
       "      <th>3</th>\n",
       "      <td>00017563c3f7919a</td>\n",
       "      <td>:If you have a look back at the source, the in...</td>\n",
       "    </tr>\n",
       "    <tr>\n",
       "      <th>4</th>\n",
       "      <td>00017695ad8997eb</td>\n",
       "      <td>I don't anonymously edit articles at all.</td>\n",
       "    </tr>\n",
       "  </tbody>\n",
       "</table>\n",
       "</div>"
      ],
      "text/plain": [
       "                 id                                       comment_text\n",
       "0  00001cee341fdb12  Yo bitch Ja Rule is more succesful then you'll...\n",
       "1  0000247867823ef7  == From RfC == \\n\\n The title is fine as it is...\n",
       "2  00013b17ad220c46  \" \\n\\n == Sources == \\n\\n * Zawe Ashton on Lap...\n",
       "3  00017563c3f7919a  :If you have a look back at the source, the in...\n",
       "4  00017695ad8997eb          I don't anonymously edit articles at all."
      ]
     },
     "execution_count": 51,
     "metadata": {},
     "output_type": "execute_result"
    }
   ],
   "source": [
    "test.head()"
   ]
  },
  {
   "cell_type": "markdown",
   "metadata": {},
   "source": [
    "<p>Dans ce jeu de données, il y a 8 colonnes {id, comment text, Toxic, sever toxic, obscene, threat, identity hate, insult} présentes dans lesquelles 6 sont les labels et ce problème est un problème multi-label, pas un problème de classification multi-classe.\n",
    "<p>Cela signifie qu'un commentaire peut appartenir à 1 ou plusieurs label à la fois, le plus élevé pouvant être 6 et le plus bas 1.\n",
    "<p>La toute première observation est que tous les commentaires contiennent de nombreux signes de ponctuation et que la plupart d'entre eux sont en majuscules. Pour la modélisation, nous devons nettoyer les commentaires avant de les envoyer au modèle pour l'entraînement.\n",
    "   "
   ]
  },
  {
   "cell_type": "code",
   "execution_count": 52,
   "metadata": {},
   "outputs": [
    {
     "data": {
      "image/png": "[encoded data removed]",
      "text/plain": [
       "<Figure size 864x576 with 1 Axes>"
      ]
     },
     "metadata": {
      "needs_background": "light"
     },
     "output_type": "display_data"
    }
   ],
   "source": [
    "clean = len(train[(train[\"toxic\"]==0) & (train[\"severe_toxic\"]==0) & (train[\"obscene\"]==0) & (train[\"threat\"]==0) &(train[\"insult\"]==0) & (train[\"identity_hate\"]==0)]) \n",
    "toxic = len(train[train[\"toxic\"]==1])\n",
    "sever =  len(train[train[\"severe_toxic\"]==1])\n",
    "threat = len(train[train[\"threat\"]==1]) \n",
    "obscene = len(train[train[\"obscene\"]==1])\n",
    "insult = len(train[train[\"insult\"]==1])\n",
    "identity_hate = len(train[train[\"identity_hate\"]==1])\n",
    "comment = [clean , toxic , sever , threat ,obscene , insult , identity_hate]\n",
    "\n",
    "freq_series = pd.Series(comment)\n",
    "x_labels = [\"clean\" , \"toxic\" , \"sever\" , \"threat\" ,\"obscene\" , \"insult\" , \"identity_hate\"]\n",
    "plt.figure(figsize=(12, 8))\n",
    "ax = freq_series.plot(kind='bar')\n",
    "ax.set_title('Comment per class')\n",
    "ax.set_xlabel(\"Comment Type\")\n",
    "ax.set_ylabel('No. of comments')\n",
    "ax.set_xticklabels(x_labels)\n",
    "rects = ax.patches\n",
    "\n",
    "\n",
    "for rect , label in zip(rects , comment):\n",
    "    height = rect.get_height()\n",
    "    ax.text(rect.get_x() + rect.get_width() / 2, height + 5, label,\n",
    "            ha='center', va='bottom')\n",
    "\n",
    "plt.show()"
   ]
  },
  {
   "cell_type": "code",
   "execution_count": 53,
   "metadata": {},
   "outputs": [
    {
     "data": {
      "image/png": "[encoded data removed]",
      "text/plain": [
       "<Figure size 864x576 with 1 Axes>"
      ]
     },
     "metadata": {
      "needs_background": "light"
     },
     "output_type": "display_data"
    }
   ],
   "source": [
    "x = train[[\"toxic\" , \"severe_toxic\"  ,\"obscene\" , \"threat\" , \"insult\" , \"identity_hate\"]].sum(axis = 1).value_counts()\n",
    "key = x.keys()\n",
    "value = x.values\n",
    "\n",
    "fr = pd.Series(value)\n",
    "plt.figure(figsize=(12, 8))\n",
    "ax = fr.plot(kind='bar')\n",
    "ax.set_title('Multilabel comments')\n",
    "ax.set_xlabel(\"labels\")\n",
    "ax.set_ylabel('No. of comments')\n",
    "ax.set_xticklabels(key)\n",
    "rects = ax.patches\n",
    "\n",
    "\n",
    "for rect , label in zip(rects , fr):\n",
    "    height = rect.get_height()\n",
    "    ax.text(rect.get_x() + rect.get_width() / 2, height + 5, label,\n",
    "            ha='center', va='bottom')\n",
    "\n",
    "plt.show()"
   ]
  },
  {
   "cell_type": "markdown",
   "metadata": {},
   "source": [
    "Les résultats montrent que l'ensemble de données est fortement déséquilibré. Les commentaires propres dominent l'ensemble de données en ce qui concerne le nombre de valeurs par classe. D'autre part, les catégories de commentaires toxic sont en très petit nombre, même les catégories \"threat, Sever toxic and Identity hate\" ont un nombre significativement bas en termes de nombre par classe."
   ]
  },
  {
   "cell_type": "markdown",
   "metadata": {},
   "source": [
    "La plupart des commentaires partagent plusieurs labels, par exemple un commentaire peut appartenir à \"Sever toxic\" et \"Threat \".\n",
    "Par exemple pour le commentaire: \"you are an idiot u don't have rights to live in our country u are an outsider and we will kill you all soon... \", A ce stade, nous allons  calculer le nombre total de toxicité différente qui peut être suivi par chaque commentaire.\n"
   ]
  },
  {
   "cell_type": "code",
   "execution_count": 54,
   "metadata": {},
   "outputs": [],
   "source": [
    "train=train[0:5000]\n",
    "test=test[0:5000]"
   ]
  },
  {
   "cell_type": "code",
   "execution_count": 55,
   "metadata": {},
   "outputs": [
    {
     "data": {
      "text/plain": [
       "'Hey... what is it..\\n@ | talk .\\nWhat is it... an exclusive group of some WP TALIBANS...who are good at destroying, self-appointed purist who GANG UP any one who asks them questions abt their ANTI-SOCIAL and DESTRUCTIVE (non)-contribution at WP?\\n\\nAsk Sityush to clean up his behavior than issue me nonsensical warnings...'"
      ]
     },
     "execution_count": 55,
     "metadata": {},
     "output_type": "execute_result"
    }
   ],
   "source": [
    "train['comment_text'][12]"
   ]
  },
  {
   "cell_type": "markdown",
   "metadata": {},
   "source": [
    "## Tokenization"
   ]
  },
  {
   "cell_type": "markdown",
   "metadata": {},
   "source": [
    "A ce stade, on va nettoyer les commentaires avant de les envoyer au modèle pour l'entraînement"
   ]
  },
  {
   "cell_type": "code",
   "execution_count": 56,
   "metadata": {},
   "outputs": [],
   "source": [
    "def preprocess(text):\n",
    "    text = text.lower()\n",
    "    text = re.sub('[^a-zA-Z0-9]', ' ',text)\n",
    "    text = re.sub('\\W', ' ',text)\n",
    "    text = re.sub('\\s+', ' ',text)   \n",
    "    text = re.sub(r\"\\'\", \" \",text)\n",
    "    return text\n",
    "\n",
    "def clean( text):\n",
    "    text = text.lower()\n",
    "    text = re.sub(\"\\\\n\",\"\",text)\n",
    "    text = re.sub(\"\\d{1,3}\\.\\d{1,3}\\.\\d{1,3}\\.\\d{1,3}\",\"\",text)\n",
    "    text = re.sub(\"\\[\\[.*\\]\",\"\",text)\n",
    "    text = re.sub(r'\\r', ' ',text)\n",
    "    text = re.sub(r'\\n', ' ',text)\n",
    "    text = re.sub('[^a-zA-Z0-9]', ' ',text)\n",
    "    text = re.sub('\\W', ' ',text)\n",
    "    text = re.sub('\\s+', ' ',text)   \n",
    "    text = re.sub(r\"\\'\", \" \",text)\n",
    "    return(text)"
   ]
  },
  {
   "cell_type": "code",
   "execution_count": 29,
   "metadata": {},
   "outputs": [],
   "source": [
    "train['comment_text']=train['comment_text'].apply(lambda x :preprocess(x))\n",
    "test['comment_text']=test['comment_text'].apply(lambda x :preprocess(x))"
   ]
  },
  {
   "cell_type": "code",
   "execution_count": 30,
   "metadata": {},
   "outputs": [
    {
     "data": {
      "text/plain": [
       "'hey what is it talk what is it an exclusive group of some wp talibans who are good at destroying self appointed purist who gang up any one who asks them questions abt their anti social and destructive non contribution at wp ask sityush to clean up his behavior than issue me nonsensical warnings '"
      ]
     },
     "execution_count": 30,
     "metadata": {},
     "output_type": "execute_result"
    }
   ],
   "source": [
    "train['comment_text'][12]"
   ]
  },
  {
   "cell_type": "code",
   "execution_count": 31,
   "metadata": {},
   "outputs": [],
   "source": [
    "X=train['comment_text'].fillna(' ')\n",
    "label_cols = ['toxic', 'severe_toxic', 'obscene', 'threat', 'insult', 'identity_hate']\n",
    "y=train[label_cols]"
   ]
  },
  {
   "cell_type": "code",
   "execution_count": 32,
   "metadata": {},
   "outputs": [],
   "source": [
    "tfid = TfidfVectorizer(max_features=30000,stop_words='english')"
   ]
  },
  {
   "cell_type": "code",
   "execution_count": 33,
   "metadata": {},
   "outputs": [],
   "source": [
    "X = tfid.fit_transform(X)"
   ]
  },
  {
   "cell_type": "code",
   "execution_count": 35,
   "metadata": {},
   "outputs": [],
   "source": [
    "X_train, X_test, y_train, y_test = train_test_split(X, y, test_size = 0.3)"
   ]
  },
  {
   "cell_type": "markdown",
   "metadata": {},
   "source": [
    "<center><h1>Création des modèles<h1/><center>"
   ]
  },
  {
   "cell_type": "markdown",
   "metadata": {},
   "source": [
    "### Logistic Regression"
   ]
  },
  {
   "cell_type": "code",
   "execution_count": 13,
   "metadata": {},
   "outputs": [],
   "source": [
    "model = LogisticRegression(max_iter=200)"
   ]
  },
  {
   "cell_type": "code",
   "execution_count": 14,
   "metadata": {},
   "outputs": [],
   "source": [
    "y_pred=pd.DataFrame(columns=['toxic','severe_toxic',\t'obscene',\t'threat',\t'insult',\t'identity_hate'])\n",
    "for i in label_cols:\n",
    "    y_train_i = y_train[i]\n",
    "    model.fit(X_train, y_train_i)\n",
    "    y_pred_i = model.predict_proba(X_test)[:, 1]\n",
    "    y_pred[i]=y_pred_i"
   ]
  },
  {
   "cell_type": "code",
   "execution_count": 15,
   "metadata": {},
   "outputs": [
    {
     "name": "stdout",
     "output_type": "stream",
     "text": [
      "Accuracy:  0.9731726257527855\n"
     ]
    }
   ],
   "source": [
    "print('Accuracy: ', 1-mean_squared_error(y_test,y_pred))"
   ]
  },
  {
   "cell_type": "markdown",
   "metadata": {},
   "source": [
    "### Random Forest\n"
   ]
  },
  {
   "cell_type": "code",
   "execution_count": 36,
   "metadata": {},
   "outputs": [],
   "source": [
    "from sklearn.ensemble import RandomForestClassifier\n",
    "model = RandomForestClassifier(random_state=1, class_weight=\"balanced\", max_depth=10, n_estimators=150)"
   ]
  },
  {
   "cell_type": "code",
   "execution_count": 37,
   "metadata": {},
   "outputs": [],
   "source": [
    "y_pred=pd.DataFrame(columns=['toxic','severe_toxic','obscene','threat','insult','identity_hate'])\n",
    "for i in label_cols:\n",
    "    y_train_i = y_train[i]\n",
    "    model.fit(X_train, y_train_i)\n",
    "    y_pred_i = model.predict_proba(X_test)[:, 1]\n",
    "    y_pred[i]=y_pred_i"
   ]
  },
  {
   "cell_type": "code",
   "execution_count": 38,
   "metadata": {},
   "outputs": [
    {
     "name": "stdout",
     "output_type": "stream",
     "text": [
      "Accuracy:  0.8404807503551796\n"
     ]
    }
   ],
   "source": [
    "print('Accuracy: ', 1-mean_squared_error(y_test,y_pred))"
   ]
  },
  {
   "cell_type": "markdown",
   "metadata": {},
   "source": [
    "### Decision tree\n"
   ]
  },
  {
   "cell_type": "code",
   "execution_count": 41,
   "metadata": {},
   "outputs": [],
   "source": [
    "from sklearn.tree import DecisionTreeClassifier\n",
    "model=DecisionTreeClassifier()\n",
    "\n",
    "\n"
   ]
  },
  {
   "cell_type": "code",
   "execution_count": 42,
   "metadata": {},
   "outputs": [],
   "source": [
    "y_pred=pd.DataFrame(columns=['toxic','severe_toxic','obscene','threat','insult','identity_hate'])\n",
    "for i in label_cols:\n",
    "    y_train_i = y_train[i]\n",
    "    model.fit(X_train, y_train_i)\n",
    "    y_pred_i = model.predict_proba(X_test)[:, 1]\n",
    "    y_pred[i]=y_pred_i"
   ]
  },
  {
   "cell_type": "code",
   "execution_count": 43,
   "metadata": {},
   "outputs": [
    {
     "name": "stdout",
     "output_type": "stream",
     "text": [
      "Accuracy:  0.9716666666666667\n"
     ]
    }
   ],
   "source": [
    "print('Accuracy: ', 1-mean_squared_error(y_test,y_pred))"
   ]
  },
  {
   "cell_type": "markdown",
   "metadata": {},
   "source": [
    "### MLPClassifier"
   ]
  },
  {
   "cell_type": "code",
   "execution_count": 44,
   "metadata": {},
   "outputs": [],
   "source": [
    "from sklearn.neural_network import MLPClassifier\n",
    "model = MLPClassifier(solver='lbfgs', alpha=1e-8, hidden_layer_sizes=(2,8))\n"
   ]
  },
  {
   "cell_type": "code",
   "execution_count": 45,
   "metadata": {},
   "outputs": [],
   "source": [
    "y_pred=pd.DataFrame(columns=['toxic','severe_toxic','obscene','threat','insult','identity_hate'])\n",
    "for i in label_cols:\n",
    "    y_train_i = y_train[i]\n",
    "    model.fit(X_train, y_train_i)\n",
    "    y_pred_i = model.predict_proba(X_test)[:, 1]\n",
    "    y_pred[i]=y_pred_i"
   ]
  },
  {
   "cell_type": "code",
   "execution_count": 46,
   "metadata": {},
   "outputs": [
    {
     "name": "stdout",
     "output_type": "stream",
     "text": [
      "Accuracy:  0.974737485411385\n"
     ]
    }
   ],
   "source": [
    "print('Accuracy: ', 1-mean_squared_error(y_test,y_pred))"
   ]
  },
  {
   "cell_type": "markdown",
   "metadata": {},
   "source": [
    "## Conclusion"
   ]
  },
  {
   "cell_type": "markdown",
   "metadata": {},
   "source": [
    "Une fois les données préparées, on utilise une régression logistique comme modèle de prédiction, le score MSE obtenu est de 0.014 sur notre jeu test. Le score obtenu sur Kaggle est de 0.977 ce qui est assez satisfaisant."
   ]
  },
  {
   "cell_type": "code",
   "execution_count": null,
   "metadata": {},
   "outputs": [],
   "source": []
  }
 ],
 "metadata": {
  "kernelspec": {
   "display_name": "Python 3",
   "language": "python",
   "name": "python3"
  },
  "language_info": {
   "codemirror_mode": {
    "name": "ipython",
    "version": 3
   },
   "file_extension": ".py",
   "mimetype": "text/x-python",
   "name": "python",
   "nbconvert_exporter": "python",
   "pygments_lexer": "ipython3",
   "version": "3.8.5"
  }
 },
 "nbformat": 4,
 "nbformat_minor": 4
}
